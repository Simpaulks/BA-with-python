{
  "nbformat": 4,
  "nbformat_minor": 0,
  "metadata": {
    "colab": {
      "name": "Untitled1.ipynb",
      "provenance": []
    },
    "kernelspec": {
      "name": "python3",
      "display_name": "Python 3"
    },
    "language_info": {
      "name": "python"
    }
  },
  "cells": [
    {
      "cell_type": "code",
      "execution_count": 2,
      "metadata": {
        "colab": {
          "base_uri": "https://localhost:8080/"
        },
        "id": "7d_M53KCRuqo",
        "outputId": "093df1ac-a2ce-4853-fb41-7bb67813cd23"
      },
      "outputs": [
        {
          "name": "stdout",
          "output_type": "stream",
          "text": [
            "enter the first number 5\n",
            "enter the second number 8\n"
          ]
        }
      ],
      "source": [
        "x=int(input('enter the first number '))\n",
        "y=int(input('enter the second number '))"
      ]
    },
    {
      "cell_type": "code",
      "source": [
        "10000*5*8/100"
      ],
      "metadata": {
        "colab": {
          "base_uri": "https://localhost:8080/"
        },
        "id": "F28r1tBxR1_z",
        "outputId": "f368ff15-5c0d-4bdd-cce7-ce819230e3b5"
      },
      "execution_count": 3,
      "outputs": [
        {
          "output_type": "execute_result",
          "data": {
            "text/plain": [
              "4000.0"
            ]
          },
          "metadata": {},
          "execution_count": 3
        }
      ]
    },
    {
      "cell_type": "code",
      "source": [
        "P=int(input('enter the principal amount:'))\n",
        "N=int(input('enter the no of years:'))\n",
        "R=int(input('enter the rate:'))\n",
        "I=P*N*R/100\n",
        "T=P+I\n",
        "print('interst amount:',I)\n",
        "print('Total amount',T)"
      ],
      "metadata": {
        "colab": {
          "base_uri": "https://localhost:8080/"
        },
        "id": "bTUknH5RTa_P",
        "outputId": "b774f0e3-8f70-481d-e49f-3e3d0d955fb3"
      },
      "execution_count": 8,
      "outputs": [
        {
          "output_type": "stream",
          "name": "stdout",
          "text": [
            "enter the principal amount:10000\n",
            "enter the no of years:5\n",
            "enter the rate:8\n",
            "interst amount: 4000.0\n",
            "Total amount 14000.0\n"
          ]
        }
      ]
    },
    {
      "cell_type": "code",
      "source": [
        "x=int(input('enter your mark'))\n",
        "if x>=50:\n",
        "  print('pass')\n",
        "if x<50:\n",
        "  print('fail')\n",
        "    "
      ],
      "metadata": {
        "colab": {
          "base_uri": "https://localhost:8080/"
        },
        "id": "gEk_SRGZUXAR",
        "outputId": "85387bcb-d5cb-4d63-9dbf-5edf911096bc"
      },
      "execution_count": 9,
      "outputs": [
        {
          "output_type": "stream",
          "name": "stdout",
          "text": [
            "enter your mark56\n",
            "pass\n"
          ]
        }
      ]
    },
    {
      "cell_type": "code",
      "source": [
        "S=int(input('enter the salary'))\n",
        "if S>=250000:\n",
        "  print('you are taxable')\n",
        "if S<250000:\n",
        "  print('you are not taxable')"
      ],
      "metadata": {
        "colab": {
          "base_uri": "https://localhost:8080/"
        },
        "id": "LlkQ5Lf0YUuw",
        "outputId": "9715dfa6-4148-47dd-eb4c-93a105f082e1"
      },
      "execution_count": 10,
      "outputs": [
        {
          "output_type": "stream",
          "name": "stdout",
          "text": [
            "enter the salary200000\n",
            "you are not taxable\n"
          ]
        }
      ]
    },
    {
      "cell_type": "code",
      "source": [
        "S=int(input('enter the salary'))\n",
        "if S>=250000:\n",
        "  print('you are taxable')\n",
        "  T=print('Tax amount',S*10/100)\n",
        "if S<250000:\n",
        "  print('you are not taxable')"
      ],
      "metadata": {
        "colab": {
          "base_uri": "https://localhost:8080/"
        },
        "id": "miB6iK3wa9lW",
        "outputId": "ceba4619-1abb-4788-905b-22559775098e"
      },
      "execution_count": 12,
      "outputs": [
        {
          "output_type": "stream",
          "name": "stdout",
          "text": [
            "enter the salary500000\n",
            "you are taxable\n",
            "Tax amount 50000.0\n"
          ]
        }
      ]
    },
    {
      "cell_type": "markdown",
      "source": [
        ""
      ],
      "metadata": {
        "id": "rLTLuvYSdCqO"
      }
    },
    {
      "cell_type": "code",
      "source": [
        "S=int(input('enter the salary'))\n",
        "x=250000\n",
        "if S>=250000:\n",
        "  print('you are taxable')\n",
        "  T=print('Tax amount',(S-x)*10/100)\n",
        "if S<250000:\n",
        "  print('you are not taxable')"
      ],
      "metadata": {
        "colab": {
          "base_uri": "https://localhost:8080/"
        },
        "id": "0Y4EClRVcE4_",
        "outputId": "92e68b2c-a73e-4643-f856-067a8ad3c76b"
      },
      "execution_count": 14,
      "outputs": [
        {
          "output_type": "stream",
          "name": "stdout",
          "text": [
            "enter the salary300000\n",
            "you are taxable\n",
            "Tax amount 5000.0\n"
          ]
        }
      ]
    },
    {
      "cell_type": "code",
      "source": [
        ""
      ],
      "metadata": {
        "id": "xJwKMqSXj3sX"
      },
      "execution_count": null,
      "outputs": []
    },
    {
      "cell_type": "code",
      "source": [
        "S=int(input('enter the salary'))\n",
        "x=250000\n",
        "if S>=250000 and S<500000:\n",
        "  print('taxable')\n",
        "  T=print('Tax amount',(S-x)*10/100)\n",
        "if S>500000:\n",
        "  print('taxable')\n",
        "  T=print('tax amount',(S-x)*20/100)\n",
        "if S<250000:\n",
        "  print('you are not taxable')"
      ],
      "metadata": {
        "id": "c614n5m5eXBG",
        "colab": {
          "base_uri": "https://localhost:8080/"
        },
        "outputId": "fb6184fa-ee48-40e1-f927-114b35403ede"
      },
      "execution_count": 19,
      "outputs": [
        {
          "output_type": "stream",
          "name": "stdout",
          "text": [
            "enter the salary600000\n",
            "taxable\n",
            "tax amount 70000.0\n"
          ]
        }
      ]
    },
    {
      "cell_type": "code",
      "source": [
        ""
      ],
      "metadata": {
        "id": "FJlSjrqflUOH"
      },
      "execution_count": null,
      "outputs": []
    }
  ]
}