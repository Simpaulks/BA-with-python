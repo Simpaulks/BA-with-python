{
  "nbformat": 4,
  "nbformat_minor": 0,
  "metadata": {
    "colab": {
      "provenance": [],
      "authorship_tag": "ABX9TyPe4fWZqHb3AQRH4uhHqSkq",
      "include_colab_link": true
    },
    "kernelspec": {
      "name": "python3",
      "display_name": "Python 3"
    },
    "language_info": {
      "name": "python"
    }
  },
  "cells": [
    {
      "cell_type": "markdown",
      "metadata": {
        "id": "view-in-github",
        "colab_type": "text"
      },
      "source": [
        "<a href=\"https://colab.research.google.com/github/Simpaulks/BA-with-python/blob/main/Untitled13.ipynb\" target=\"_parent\"><img src=\"https://colab.research.google.com/assets/colab-badge.svg\" alt=\"Open In Colab\"/></a>"
      ]
    },
    {
      "cell_type": "code",
      "execution_count": 1,
      "metadata": {
        "colab": {
          "base_uri": "https://localhost:8080/"
        },
        "id": "-87TUOaB1Rv9",
        "outputId": "d27ca73d-f9bc-4fb9-bf8b-e8b6affdf257"
      },
      "outputs": [
        {
          "output_type": "stream",
          "name": "stdout",
          "text": [
            "he \n",
            " Doctor\n"
          ]
        }
      ],
      "source": [
        "print(\"he \\n Doctor\")"
      ]
    },
    {
      "cell_type": "code",
      "source": [
        "print(\"Simpaul \\n KS\")"
      ],
      "metadata": {
        "colab": {
          "base_uri": "https://localhost:8080/"
        },
        "id": "ke4RIFJd1cJg",
        "outputId": "a143a7a4-e376-4040-a221-c2d3aeeeb2b9"
      },
      "execution_count": 2,
      "outputs": [
        {
          "output_type": "stream",
          "name": "stdout",
          "text": [
            "Simpaul \n",
            " KS\n"
          ]
        }
      ]
    },
    {
      "cell_type": "code",
      "source": [
        "x=[\"John\",\"Mary\",\"David\",\"Adam\"]\n",
        "n=input('Enter a name:')\n",
        "y=int(input('Enter index no:'))\n",
        "x.insert(y,n)\n",
        "print(x)"
      ],
      "metadata": {
        "colab": {
          "base_uri": "https://localhost:8080/"
        },
        "id": "7A-zgysl1p1G",
        "outputId": "981b43fd-98ad-4fd5-9d9c-56c7fed6b350"
      },
      "execution_count": 8,
      "outputs": [
        {
          "output_type": "stream",
          "name": "stdout",
          "text": [
            "Enter a name:Aitken\n",
            "Enter index no:3\n",
            "['John', 'Mary', 'David', 'Aitken', 'Adam']\n"
          ]
        }
      ]
    },
    {
      "cell_type": "code",
      "source": [
        "def tia():\n",
        "  y=int(input('Enter Index'))\n",
        "  n=input('Enter a Name')\n",
        "  x.insert(y,n)"
      ],
      "metadata": {
        "id": "SkUzjf0o3QhX"
      },
      "execution_count": 9,
      "outputs": []
    },
    {
      "cell_type": "code",
      "source": [
        "tia()"
      ],
      "metadata": {
        "colab": {
          "base_uri": "https://localhost:8080/"
        },
        "id": "LPLHxSsx-12J",
        "outputId": "823a5bd7-9c45-4bba-c336-9f1541e4f8ff"
      },
      "execution_count": 10,
      "outputs": [
        {
          "name": "stdout",
          "output_type": "stream",
          "text": [
            "Enter Index2\n",
            "Enter a Namehyzam\n"
          ]
        }
      ]
    },
    {
      "cell_type": "code",
      "source": [
        "x\n"
      ],
      "metadata": {
        "colab": {
          "base_uri": "https://localhost:8080/"
        },
        "id": "WdOnE-XO_cu-",
        "outputId": "db443431-c3aa-4658-b063-7c07302a57a1"
      },
      "execution_count": 11,
      "outputs": [
        {
          "output_type": "execute_result",
          "data": {
            "text/plain": [
              "['John', 'Mary', 'hyzam', 'David', 'Aitken', 'Adam']"
            ]
          },
          "metadata": {},
          "execution_count": 11
        }
      ]
    },
    {
      "cell_type": "code",
      "source": [
        "def maths():\n",
        "  x=int(input(\"Enter number\"))\n",
        "  y=int(input('enter number'))\n",
        "  print(x+y)\n",
        "  print(x-y)\n",
        "  print(x/y)\n",
        "  print(x*y)"
      ],
      "metadata": {
        "id": "2787KraPBVa0"
      },
      "execution_count": 14,
      "outputs": []
    },
    {
      "cell_type": "code",
      "source": [
        "maths()"
      ],
      "metadata": {
        "colab": {
          "base_uri": "https://localhost:8080/"
        },
        "id": "YetlTSQKA78e",
        "outputId": "46778994-b62b-4e4b-f7a9-714997f26fea"
      },
      "execution_count": 15,
      "outputs": [
        {
          "output_type": "stream",
          "name": "stdout",
          "text": [
            "Enter number3\n",
            "enter number6\n",
            "9\n",
            "-3\n",
            "0.5\n",
            "18\n"
          ]
        }
      ]
    },
    {
      "cell_type": "code",
      "source": [
        "def maths(a,b):\n",
        "  print(a+b)"
      ],
      "metadata": {
        "id": "N-u4i9f8Cpcg"
      },
      "execution_count": 16,
      "outputs": []
    },
    {
      "cell_type": "code",
      "source": [
        "x=int(input('Enter the first value'))\n",
        "y=int(input('Enter the second value'))\n",
        "maths(x,y)"
      ],
      "metadata": {
        "colab": {
          "base_uri": "https://localhost:8080/"
        },
        "id": "2exItjTVFhvV",
        "outputId": "638df3d1-23d5-4047-d3fb-4fbd23aa303d"
      },
      "execution_count": 17,
      "outputs": [
        {
          "output_type": "stream",
          "name": "stdout",
          "text": [
            "Enter the first value22\n",
            "Enter the second value15\n",
            "37\n"
          ]
        }
      ]
    },
    {
      "cell_type": "code",
      "source": [
        "def maths(a,b):\n",
        "  print(a*b)"
      ],
      "metadata": {
        "id": "L8qF0z3uFvui"
      },
      "execution_count": 18,
      "outputs": []
    },
    {
      "cell_type": "code",
      "source": [
        "x=int(input('Enter the first value'))\n",
        "y=int(input('Enter the second value'))\n",
        "maths(x,y)"
      ],
      "metadata": {
        "colab": {
          "base_uri": "https://localhost:8080/"
        },
        "id": "htMOsVgwGrVe",
        "outputId": "debdf31d-c965-4041-86bb-df941f3a3b11"
      },
      "execution_count": 19,
      "outputs": [
        {
          "output_type": "stream",
          "name": "stdout",
          "text": [
            "Enter the first value22\n",
            "Enter the second value52\n",
            "1144\n"
          ]
        }
      ]
    },
    {
      "cell_type": "code",
      "source": [],
      "metadata": {
        "id": "uVGXowFlGtvW"
      },
      "execution_count": null,
      "outputs": []
    }
  ]
}