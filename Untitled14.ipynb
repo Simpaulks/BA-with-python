{
  "nbformat": 4,
  "nbformat_minor": 0,
  "metadata": {
    "colab": {
      "provenance": [],
      "authorship_tag": "ABX9TyPoUCash+612cOxm3XXYqXC",
      "include_colab_link": true
    },
    "kernelspec": {
      "name": "python3",
      "display_name": "Python 3"
    },
    "language_info": {
      "name": "python"
    }
  },
  "cells": [
    {
      "cell_type": "markdown",
      "metadata": {
        "id": "view-in-github",
        "colab_type": "text"
      },
      "source": [
        "<a href=\"https://colab.research.google.com/github/Simpaulks/BA-with-python/blob/main/Untitled14.ipynb\" target=\"_parent\"><img src=\"https://colab.research.google.com/assets/colab-badge.svg\" alt=\"Open In Colab\"/></a>"
      ]
    },
    {
      "cell_type": "code",
      "execution_count": 5,
      "metadata": {
        "id": "a8lB-iaiZXbb"
      },
      "outputs": [],
      "source": [
        "x=[2,4,7,34,64,87,23,33,12,11]\n",
        "\n"
      ]
    },
    {
      "cell_type": "code",
      "source": [
        "def even():\n",
        "  x=[2,4,7,34,64,87,23,33,12,11]\n",
        "  e=[]\n",
        "  for x in x :\n",
        "     if x%2 == 0:\n",
        "       e.append(x)\n",
        "  print(e)   \n"
      ],
      "metadata": {
        "id": "efsxhgwca4A9"
      },
      "execution_count": 44,
      "outputs": []
    },
    {
      "cell_type": "code",
      "source": [
        "even()"
      ],
      "metadata": {
        "colab": {
          "base_uri": "https://localhost:8080/"
        },
        "id": "rF65AYGudI61",
        "outputId": "cfc1989c-678b-41c7-ff9b-a6cbfd6fe147"
      },
      "execution_count": 45,
      "outputs": [
        {
          "output_type": "stream",
          "name": "stdout",
          "text": [
            "[2, 4, 34, 64, 12]\n"
          ]
        }
      ]
    },
    {
      "cell_type": "code",
      "source": [
        "def odd():\n",
        "  x=[2,4,7,34,64,87,23,33,12,11]\n",
        "  e=[]\n",
        "  for x in x :\n",
        "     if x%2 != 0:\n",
        "       e.append(x)\n",
        "  print(e)  "
      ],
      "metadata": {
        "id": "-dEVJDFfdPtM"
      },
      "execution_count": 46,
      "outputs": []
    },
    {
      "cell_type": "code",
      "source": [
        "odd()"
      ],
      "metadata": {
        "colab": {
          "base_uri": "https://localhost:8080/"
        },
        "id": "h_Qt3a72fRiI",
        "outputId": "40426456-b3eb-46d1-a1ed-3afe6f3cc956"
      },
      "execution_count": 47,
      "outputs": [
        {
          "output_type": "stream",
          "name": "stdout",
          "text": [
            "[7, 87, 23, 33, 11]\n"
          ]
        }
      ]
    },
    {
      "cell_type": "code",
      "source": [
        "text=input(\"Enter the String: \")\n",
        "vowels = ['a', 'e', 'i', 'o', 'u', 'A', 'E', 'I', 'O', 'U']\n",
        "newtext = \"\"\n",
        "textlen = len(text)\n",
        "\n",
        "for i in range(textlen):\n",
        "    if text[i] not in vowels:\n",
        "        newtext = newtext + text[i]\n",
        "\n",
        "print(\"\\nString after removing Vowels: \")\n",
        "text = newtext\n",
        "print(text)"
      ],
      "metadata": {
        "colab": {
          "base_uri": "https://localhost:8080/"
        },
        "id": "-BQs_qgKfStV",
        "outputId": "7e368898-f2d8-4853-808d-f7090d2cec97"
      },
      "execution_count": 48,
      "outputs": [
        {
          "output_type": "stream",
          "name": "stdout",
          "text": [
            "Enter the String: Python is a high-level, general-purpose programming language. Its design philosophy emphasizes code readability with the use of significant indentation. Python is dynamically typed and garbage-collected. It supports multiple programming paradigms, including structured, object-oriented and functional programming\n",
            "\n",
            "String after removing Vowels: \n",
            "Pythn s  hgh-lvl, gnrl-prps prgrmmng lngg. ts dsgn phlsphy mphszs cd rdblty wth th s f sgnfcnt ndnttn. Pythn s dynmclly typd nd grbg-cllctd. t spprts mltpl prgrmmng prdgms, ncldng strctrd, bjct-rntd nd fnctnl prgrmmng\n"
          ]
        }
      ]
    }
  ]
}