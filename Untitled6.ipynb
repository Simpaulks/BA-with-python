{
  "nbformat": 4,
  "nbformat_minor": 0,
  "metadata": {
    "colab": {
      "name": "Untitled6.ipynb",
      "provenance": [],
      "authorship_tag": "ABX9TyPZtEYhz6OF7jPu6sbTta4l",
      "include_colab_link": true
    },
    "kernelspec": {
      "name": "python3",
      "display_name": "Python 3"
    },
    "language_info": {
      "name": "python"
    }
  },
  "cells": [
    {
      "cell_type": "markdown",
      "metadata": {
        "id": "view-in-github",
        "colab_type": "text"
      },
      "source": [
        "<a href=\"https://colab.research.google.com/github/Simpaulks/BA-with-python/blob/main/Untitled6.ipynb\" target=\"_parent\"><img src=\"https://colab.research.google.com/assets/colab-badge.svg\" alt=\"Open In Colab\"/></a>"
      ]
    },
    {
      "cell_type": "code",
      "execution_count": 1,
      "metadata": {
        "id": "qQ3SxV2tRCgB"
      },
      "outputs": [],
      "source": [
        "import pandas as pd\n",
        "df=pd.read_excel('HRDataset_v14.xlsx')\n"
      ]
    },
    {
      "cell_type": "code",
      "source": [
        "df.Position.count()"
      ],
      "metadata": {
        "colab": {
          "base_uri": "https://localhost:8080/"
        },
        "id": "Bk5gfLgTRlyk",
        "outputId": "1d8bbf97-7cb6-4fa6-8cd5-7104bbf2263f"
      },
      "execution_count": 2,
      "outputs": [
        {
          "output_type": "execute_result",
          "data": {
            "text/plain": [
              "311"
            ]
          },
          "metadata": {},
          "execution_count": 2
        }
      ]
    },
    {
      "cell_type": "code",
      "source": [
        "df.loc[df['Position']=='Production Technician I'].EmpID.count()"
      ],
      "metadata": {
        "colab": {
          "base_uri": "https://localhost:8080/"
        },
        "id": "oHCAXa_GTUBw",
        "outputId": "5f83586b-e066-459a-9287-e512e0ca5581"
      },
      "execution_count": 11,
      "outputs": [
        {
          "output_type": "execute_result",
          "data": {
            "text/plain": [
              "137"
            ]
          },
          "metadata": {},
          "execution_count": 11
        }
      ]
    },
    {
      "cell_type": "code",
      "source": [
        "df.loc[df['Gender']=='Male'].EmpID.count()"
      ],
      "metadata": {
        "colab": {
          "base_uri": "https://localhost:8080/"
        },
        "id": "pyt4wqZxTmxi",
        "outputId": "c72d9dda-6530-40bb-8cba-92c4f148fde6"
      },
      "execution_count": 12,
      "outputs": [
        {
          "output_type": "execute_result",
          "data": {
            "text/plain": [
              "193"
            ]
          },
          "metadata": {},
          "execution_count": 12
        }
      ]
    },
    {
      "cell_type": "code",
      "source": [
        "df.loc[df['ManagerName']=='Michael Albert'].Employee_Name\n"
      ],
      "metadata": {
        "id": "JCeitlv5VDkI",
        "outputId": "77aa1ac9-fdc9-4d3c-8c5f-e69338779c0b",
        "colab": {
          "base_uri": "https://localhost:8080/"
        }
      },
      "execution_count": 14,
      "outputs": [
        {
          "output_type": "execute_result",
          "data": {
            "text/plain": [
              "0         Adinolfi, Wilson  K\n",
              "14              Barton, Nader\n",
              "23             Blount, Dianna\n",
              "41           Chace, Beatrice \n",
              "58          Crimmings,   Jean\n",
              "83             Erilus, Angela\n",
              "84          Estremera, Miguel\n",
              "102           Gentry, Mildred\n",
              "122       Handschiegl, Joanne\n",
              "129    Homberger, Adrienne  J\n",
              "143           Johnson, George\n",
              "148           Keatts, Kramer \n",
              "168         Linares, Marilyn \n",
              "171              Lundy, Susan\n",
              "186        Medeiros, Jennifer\n",
              "195         Moumanil, Maliki \n",
              "209             Owad, Clinton\n",
              "229            Rarrick, Quinn\n",
              "247             Sadki, Nore  \n",
              "256          Sloan, Constance\n",
              "272         Sullivan, Timothy\n",
              "294      Von Massenbach, Anna\n",
              "Name: Employee_Name, dtype: object"
            ]
          },
          "metadata": {},
          "execution_count": 14
        }
      ]
    },
    {
      "cell_type": "code",
      "source": [
        "df.loc[df['EmploymentStatus']=='Active'].Employee_Name\n"
      ],
      "metadata": {
        "id": "uABtQY5JXGt-",
        "outputId": "29d553b3-dad5-4e8c-c767-2e991d2a4ca9",
        "colab": {
          "base_uri": "https://localhost:8080/"
        }
      },
      "execution_count": 15,
      "outputs": [
        {
          "output_type": "execute_result",
          "data": {
            "text/plain": [
              "0      Adinolfi, Wilson  K\n",
              "3             Alagbe,Trina\n",
              "5        Anderson, Linda  \n",
              "6          Andreola, Colby\n",
              "7              Athwal, Sam\n",
              "              ...         \n",
              "305          Wolk, Hang  T\n",
              "306         Woodson, Jason\n",
              "308       Zamora, Jennifer\n",
              "309            Zhou, Julia\n",
              "310          Zima, Colleen\n",
              "Name: Employee_Name, Length: 207, dtype: object"
            ]
          },
          "metadata": {},
          "execution_count": 15
        }
      ]
    },
    {
      "cell_type": "code",
      "source": [
        "df.loc[(df['EmploymentStatus']=='Active') & (df['MaritalDesc']=='Married')].Employee_Name\n"
      ],
      "metadata": {
        "id": "cUDZ5ZA6Xwqv",
        "outputId": "fdceadd4-b54f-4ad9-a362-a0159a212803",
        "colab": {
          "base_uri": "https://localhost:8080/"
        }
      },
      "execution_count": 17,
      "outputs": [
        {
          "output_type": "execute_result",
          "data": {
            "text/plain": [
              "3           Alagbe,Trina\n",
              "16      Beak, Kimberly  \n",
              "22         Billis, Helen\n",
              "26     Boutwell, Bonalyn\n",
              "29            Brown, Mia\n",
              "             ...        \n",
              "271     Sullivan, Kissy \n",
              "272    Sullivan, Timothy\n",
              "275         Tannen, Biff\n",
              "287        Turpin, Jumil\n",
              "288      Valentin,Jackie\n",
              "Name: Employee_Name, Length: 77, dtype: object"
            ]
          },
          "metadata": {},
          "execution_count": 17
        }
      ]
    },
    {
      "cell_type": "code",
      "source": [
        "df.loc[(df['EmploymentStatus']=='Active') & (df['Salary']<60000)].Employee_Name\n",
        "\n"
      ],
      "metadata": {
        "id": "A0esXHuWYK5o",
        "outputId": "bfd33cc9-97dd-4f6f-de2e-1b69e38aa1df",
        "colab": {
          "base_uri": "https://localhost:8080/"
        }
      },
      "execution_count": 18,
      "outputs": [
        {
          "output_type": "execute_result",
          "data": {
            "text/plain": [
              "5         Anderson, Linda  \n",
              "7               Athwal, Sam\n",
              "8          Bachiochi, Linda\n",
              "9        Bacong, Alejandro \n",
              "13     Barone, Francesco  A\n",
              "               ...         \n",
              "278        Terry, Sharlene \n",
              "281       Tippett, Jeanette\n",
              "288         Valentin,Jackie\n",
              "291        Villanueva, Noah\n",
              "310           Zima, Colleen\n",
              "Name: Employee_Name, Length: 72, dtype: object"
            ]
          },
          "metadata": {},
          "execution_count": 18
        }
      ]
    },
    {
      "cell_type": "code",
      "source": [
        "df.loc[(df['Position']=='Production Technician II') & (df['EngagementSurvey']==df['EngagementSurvey'].max())].Employee_Name"
      ],
      "metadata": {
        "id": "8IGf3Y7_Yvzk",
        "outputId": "10f8e280-6cdc-4573-b0aa-37dcd8a35099",
        "colab": {
          "base_uri": "https://localhost:8080/"
        }
      },
      "execution_count": 22,
      "outputs": [
        {
          "output_type": "execute_result",
          "data": {
            "text/plain": [
              "123      Hankard, Earnest\n",
              "127    Hendrickson, Trina\n",
              "177     Manchester, Robyn\n",
              "178        Mancuso, Karen\n",
              "182       Carthy, B'rigit\n",
              "206       Oliver, Brooke \n",
              "304    Winthrop, Jordan  \n",
              "Name: Employee_Name, dtype: object"
            ]
          },
          "metadata": {},
          "execution_count": 22
        }
      ]
    },
    {
      "cell_type": "code",
      "source": [
        "df.loc[df['Salary']==df['Salary'].max()].Employee_Name"
      ],
      "metadata": {
        "id": "HF5dgDkyZtPA",
        "outputId": "74991551-dd71-4b28-9dd7-8901932d60aa",
        "colab": {
          "base_uri": "https://localhost:8080/"
        }
      },
      "execution_count": 21,
      "outputs": [
        {
          "output_type": "execute_result",
          "data": {
            "text/plain": [
              "150    King, Janet\n",
              "Name: Employee_Name, dtype: object"
            ]
          },
          "metadata": {},
          "execution_count": 21
        }
      ]
    },
    {
      "cell_type": "code",
      "source": [
        "df.loc[df['Salary']<df[\"Salary\"].mean()].Employee_Name"
      ],
      "metadata": {
        "id": "eSbWIlJyi5bI",
        "outputId": "45da6cb4-5497-4154-99b6-3558bef2ee2b",
        "colab": {
          "base_uri": "https://localhost:8080/"
        }
      },
      "execution_count": 24,
      "outputs": [
        {
          "output_type": "execute_result",
          "data": {
            "text/plain": [
              "0        Adinolfi, Wilson  K\n",
              "2          Akinkuolie, Sarah\n",
              "3               Alagbe,Trina\n",
              "4           Anderson, Carol \n",
              "5          Anderson, Linda  \n",
              "               ...          \n",
              "303    Williams, Jacquelyn  \n",
              "305            Wolk, Hang  T\n",
              "306           Woodson, Jason\n",
              "307       Ybarra, Catherine \n",
              "310            Zima, Colleen\n",
              "Name: Employee_Name, Length: 221, dtype: object"
            ]
          },
          "metadata": {},
          "execution_count": 24
        }
      ]
    },
    {
      "cell_type": "code",
      "source": [
        "df.loc[(df['Salary']<df[\"Salary\"].mean()) & (df['EmpSatisfaction']==df['EmpSatisfaction'].min())].Employee_Name"
      ],
      "metadata": {
        "id": "WQxErPaTjVjQ",
        "outputId": "0a45dc14-28f5-49d5-ca76-46b2619235a9",
        "colab": {
          "base_uri": "https://localhost:8080/"
        }
      },
      "execution_count": 25,
      "outputs": [
        {
          "output_type": "execute_result",
          "data": {
            "text/plain": [
              "72    Dietrich, Jenna  \n",
              "83       Erilus, Angela\n",
              "Name: Employee_Name, dtype: object"
            ]
          },
          "metadata": {},
          "execution_count": 25
        }
      ]
    },
    {
      "cell_type": "code",
      "source": [
        ""
      ],
      "metadata": {
        "id": "Nm66plwgkK9n"
      },
      "execution_count": null,
      "outputs": []
    }
  ]
}