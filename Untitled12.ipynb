{
  "nbformat": 4,
  "nbformat_minor": 0,
  "metadata": {
    "colab": {
      "provenance": [],
      "authorship_tag": "ABX9TyORb2WMb0pX3xkY4lEFfUTc",
      "include_colab_link": true
    },
    "kernelspec": {
      "name": "python3",
      "display_name": "Python 3"
    },
    "language_info": {
      "name": "python"
    }
  },
  "cells": [
    {
      "cell_type": "markdown",
      "metadata": {
        "id": "view-in-github",
        "colab_type": "text"
      },
      "source": [
        "<a href=\"https://colab.research.google.com/github/Simpaulks/BA-with-python/blob/main/Untitled12.ipynb\" target=\"_parent\"><img src=\"https://colab.research.google.com/assets/colab-badge.svg\" alt=\"Open In Colab\"/></a>"
      ]
    },
    {
      "cell_type": "code",
      "execution_count": 1,
      "metadata": {
        "colab": {
          "base_uri": "https://localhost:8080/"
        },
        "id": "2UcaY54OwQLr",
        "outputId": "b5285132-f284-486a-f6dd-528abd5896dd"
      },
      "outputs": [
        {
          "output_type": "stream",
          "name": "stdout",
          "text": [
            "['john', 'mary', 'david', 'adam']\n"
          ]
        }
      ],
      "source": [
        "x=[\"john\",\"mary\",\"david\",\"adam\"]\n",
        "print(x)"
      ]
    },
    {
      "cell_type": "code",
      "source": [
        "x=[\"john\",\"mary\",\"david\",\"adam\"]\n",
        "type(x)"
      ],
      "metadata": {
        "colab": {
          "base_uri": "https://localhost:8080/"
        },
        "id": "XG5d-wtowm4D",
        "outputId": "5e499708-eb79-46a4-b5c9-83872e1c76ad"
      },
      "execution_count": 2,
      "outputs": [
        {
          "output_type": "execute_result",
          "data": {
            "text/plain": [
              "list"
            ]
          },
          "metadata": {},
          "execution_count": 2
        }
      ]
    },
    {
      "cell_type": "code",
      "source": [
        "x[0]"
      ],
      "metadata": {
        "colab": {
          "base_uri": "https://localhost:8080/",
          "height": 35
        },
        "id": "Djz5YLjkxTde",
        "outputId": "735ad641-bf12-4528-bca8-e7f018870772"
      },
      "execution_count": 3,
      "outputs": [
        {
          "output_type": "execute_result",
          "data": {
            "text/plain": [
              "'john'"
            ],
            "application/vnd.google.colaboratory.intrinsic+json": {
              "type": "string"
            }
          },
          "metadata": {},
          "execution_count": 3
        }
      ]
    },
    {
      "cell_type": "code",
      "source": [
        "y=[1,2,3,4,5,6,7,8,9,10]\n"
      ],
      "metadata": {
        "id": "QIgVlcHWxV7e"
      },
      "execution_count": 4,
      "outputs": []
    },
    {
      "cell_type": "code",
      "source": [
        "y[0:1]"
      ],
      "metadata": {
        "colab": {
          "base_uri": "https://localhost:8080/"
        },
        "id": "x7abwUqky7jo",
        "outputId": "b133eace-cb60-4952-9391-11691489a6af"
      },
      "execution_count": 6,
      "outputs": [
        {
          "output_type": "execute_result",
          "data": {
            "text/plain": [
              "[1]"
            ]
          },
          "metadata": {},
          "execution_count": 6
        }
      ]
    },
    {
      "cell_type": "code",
      "source": [
        "y[-3:]"
      ],
      "metadata": {
        "colab": {
          "base_uri": "https://localhost:8080/"
        },
        "id": "ZImy9-6Cy-xP",
        "outputId": "d2835ebe-9941-45f7-b206-55a469373af3"
      },
      "execution_count": 8,
      "outputs": [
        {
          "output_type": "execute_result",
          "data": {
            "text/plain": [
              "[8, 9, 10]"
            ]
          },
          "metadata": {},
          "execution_count": 8
        }
      ]
    },
    {
      "cell_type": "code",
      "source": [
        "y[7:]"
      ],
      "metadata": {
        "colab": {
          "base_uri": "https://localhost:8080/"
        },
        "id": "_ZPG4yON0JtO",
        "outputId": "c614ac5f-28bc-41cb-cbaa-814b4b37677f"
      },
      "execution_count": 9,
      "outputs": [
        {
          "output_type": "execute_result",
          "data": {
            "text/plain": [
              "[8, 9, 10]"
            ]
          },
          "metadata": {},
          "execution_count": 9
        }
      ]
    },
    {
      "cell_type": "code",
      "source": [
        "x[0:2]"
      ],
      "metadata": {
        "colab": {
          "base_uri": "https://localhost:8080/"
        },
        "id": "r-JSiBw_0QUy",
        "outputId": "d1ff502b-27ed-4a4a-cdde-4f8753d00d34"
      },
      "execution_count": 10,
      "outputs": [
        {
          "output_type": "execute_result",
          "data": {
            "text/plain": [
              "['john', 'mary']"
            ]
          },
          "metadata": {},
          "execution_count": 10
        }
      ]
    },
    {
      "cell_type": "code",
      "source": [
        "x[-3:]"
      ],
      "metadata": {
        "colab": {
          "base_uri": "https://localhost:8080/"
        },
        "id": "FlsfFr8v2Zsp",
        "outputId": "afc47a0e-a1a5-4e36-87cf-b1cb8d53d1fe"
      },
      "execution_count": 11,
      "outputs": [
        {
          "output_type": "execute_result",
          "data": {
            "text/plain": [
              "['mary', 'david', 'adam']"
            ]
          },
          "metadata": {},
          "execution_count": 11
        }
      ]
    },
    {
      "cell_type": "code",
      "source": [
        "x[2]=\"joe\""
      ],
      "metadata": {
        "id": "fR_jYJTW2pEo"
      },
      "execution_count": 12,
      "outputs": []
    },
    {
      "cell_type": "code",
      "source": [
        "x"
      ],
      "metadata": {
        "colab": {
          "base_uri": "https://localhost:8080/"
        },
        "id": "JSfWbDlC2z5Y",
        "outputId": "dec1fd1e-32e8-4032-ac3e-a1ba760be7e2"
      },
      "execution_count": 13,
      "outputs": [
        {
          "output_type": "execute_result",
          "data": {
            "text/plain": [
              "['john', 'mary', 'joe', 'adam']"
            ]
          },
          "metadata": {},
          "execution_count": 13
        }
      ]
    },
    {
      "cell_type": "code",
      "source": [
        "x.append(\"david\")"
      ],
      "metadata": {
        "id": "zwffX45r21l-"
      },
      "execution_count": 14,
      "outputs": []
    },
    {
      "cell_type": "code",
      "source": [
        "x"
      ],
      "metadata": {
        "colab": {
          "base_uri": "https://localhost:8080/"
        },
        "id": "bVSZnU7w3y9M",
        "outputId": "83aed1d7-8704-4b59-af77-69c8ec75f9bc"
      },
      "execution_count": 15,
      "outputs": [
        {
          "output_type": "execute_result",
          "data": {
            "text/plain": [
              "['john', 'mary', 'joe', 'adam', 'david']"
            ]
          },
          "metadata": {},
          "execution_count": 15
        }
      ]
    },
    {
      "cell_type": "code",
      "source": [
        "x.append(\"aitken\")"
      ],
      "metadata": {
        "id": "w3oDQfna3z0k"
      },
      "execution_count": 16,
      "outputs": []
    },
    {
      "cell_type": "code",
      "source": [
        "x\n"
      ],
      "metadata": {
        "colab": {
          "base_uri": "https://localhost:8080/"
        },
        "id": "NgXIUmGl6XsR",
        "outputId": "a5f89e58-b3b7-4724-f9be-c294789b1032"
      },
      "execution_count": 17,
      "outputs": [
        {
          "output_type": "execute_result",
          "data": {
            "text/plain": [
              "['john', 'mary', 'joe', 'adam', 'david', 'aitken']"
            ]
          },
          "metadata": {},
          "execution_count": 17
        }
      ]
    },
    {
      "cell_type": "code",
      "source": [
        "x=0\n",
        "lst=[]\n",
        "while x<4:\n",
        "  y=input('enter a name:')\n",
        "  lst.append(y)\n",
        "  x=x+1\n",
        "print(lst)\n"
      ],
      "metadata": {
        "colab": {
          "base_uri": "https://localhost:8080/"
        },
        "id": "BmYafzji6ZCA",
        "outputId": "75b41144-26af-4454-9c4f-6ba6fb7f4c99"
      },
      "execution_count": 19,
      "outputs": [
        {
          "output_type": "stream",
          "name": "stdout",
          "text": [
            "enter a name:raju\n",
            "enter a name:babu\n",
            "enter a name:ramesh\n",
            "enter a name:chandu\n",
            "['raju', 'babu', 'ramesh', 'chandu']\n"
          ]
        }
      ]
    },
    {
      "cell_type": "code",
      "source": [
        "x=['john', 'mary', 'joe', 'adam', 'david', 'aitken']"
      ],
      "metadata": {
        "id": "7fee8g2181x9"
      },
      "execution_count": 27,
      "outputs": []
    },
    {
      "cell_type": "code",
      "source": [
        "x.extend(lst)"
      ],
      "metadata": {
        "id": "X54xCL3d-vnk"
      },
      "execution_count": 28,
      "outputs": []
    },
    {
      "cell_type": "code",
      "source": [
        "x\n"
      ],
      "metadata": {
        "colab": {
          "base_uri": "https://localhost:8080/"
        },
        "id": "95lI4Fd3-5NJ",
        "outputId": "fc7b8f02-99f8-4aac-fc60-2a83f5e42092"
      },
      "execution_count": 29,
      "outputs": [
        {
          "output_type": "execute_result",
          "data": {
            "text/plain": [
              "['john',\n",
              " 'mary',\n",
              " 'joe',\n",
              " 'adam',\n",
              " 'david',\n",
              " 'aitken',\n",
              " 'raju',\n",
              " 'babu',\n",
              " 'ramesh',\n",
              " 'chandu']"
            ]
          },
          "metadata": {},
          "execution_count": 29
        }
      ]
    },
    {
      "cell_type": "code",
      "source": [
        "x[1:3]=['mathew','james']"
      ],
      "metadata": {
        "id": "0pyqDBdu-75a"
      },
      "execution_count": 30,
      "outputs": []
    },
    {
      "cell_type": "code",
      "source": [
        "x"
      ],
      "metadata": {
        "colab": {
          "base_uri": "https://localhost:8080/"
        },
        "id": "CiMSZgs8AZgo",
        "outputId": "2017e82f-86be-47aa-f357-268661c42eea"
      },
      "execution_count": 31,
      "outputs": [
        {
          "output_type": "execute_result",
          "data": {
            "text/plain": [
              "['john',\n",
              " 'mathew',\n",
              " 'james',\n",
              " 'adam',\n",
              " 'david',\n",
              " 'aitken',\n",
              " 'raju',\n",
              " 'babu',\n",
              " 'ramesh',\n",
              " 'chandu']"
            ]
          },
          "metadata": {},
          "execution_count": 31
        }
      ]
    },
    {
      "cell_type": "code",
      "source": [
        "x.insert(2,\"James\")\n",
        "x"
      ],
      "metadata": {
        "colab": {
          "base_uri": "https://localhost:8080/"
        },
        "id": "O_vF3Qu7ArUC",
        "outputId": "2a9fd431-d158-4973-af75-355e1abd955e"
      },
      "execution_count": 32,
      "outputs": [
        {
          "output_type": "execute_result",
          "data": {
            "text/plain": [
              "['john',\n",
              " 'mathew',\n",
              " 'James',\n",
              " 'james',\n",
              " 'adam',\n",
              " 'david',\n",
              " 'aitken',\n",
              " 'raju',\n",
              " 'babu',\n",
              " 'ramesh',\n",
              " 'chandu']"
            ]
          },
          "metadata": {},
          "execution_count": 32
        }
      ]
    },
    {
      "cell_type": "code",
      "source": [
        "x.remove(\"james\")"
      ],
      "metadata": {
        "id": "F0CxHSgrBg6x"
      },
      "execution_count": 33,
      "outputs": []
    },
    {
      "cell_type": "code",
      "source": [
        "del x[-1]"
      ],
      "metadata": {
        "id": "V4w3rFKJDA06"
      },
      "execution_count": 34,
      "outputs": []
    },
    {
      "cell_type": "code",
      "source": [
        "x"
      ],
      "metadata": {
        "colab": {
          "base_uri": "https://localhost:8080/"
        },
        "id": "1AIquscoDHbN",
        "outputId": "c52a0433-7626-4f9e-c6bf-d2f25def473c"
      },
      "execution_count": 35,
      "outputs": [
        {
          "output_type": "execute_result",
          "data": {
            "text/plain": [
              "['john',\n",
              " 'mathew',\n",
              " 'James',\n",
              " 'adam',\n",
              " 'david',\n",
              " 'aitken',\n",
              " 'raju',\n",
              " 'babu',\n",
              " 'ramesh']"
            ]
          },
          "metadata": {},
          "execution_count": 35
        }
      ]
    },
    {
      "cell_type": "code",
      "source": [],
      "metadata": {
        "id": "TRtf-AQhDIVW"
      },
      "execution_count": null,
      "outputs": []
    }
  ]
}