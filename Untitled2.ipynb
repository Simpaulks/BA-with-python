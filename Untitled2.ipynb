{
  "nbformat": 4,
  "nbformat_minor": 0,
  "metadata": {
    "colab": {
      "name": "Untitled2.ipynb",
      "provenance": []
    },
    "kernelspec": {
      "name": "python3",
      "display_name": "Python 3"
    },
    "language_info": {
      "name": "python"
    }
  },
  "cells": [
    {
      "cell_type": "code",
      "execution_count": null,
      "metadata": {
        "id": "xQjQL6auYAsf"
      },
      "outputs": [],
      "source": [
        "sal=int(input(\"enter the salary\"))\n",
        "hri=int(input(\"enter the house rent installment\"))\n",
        "spi=int(input(\"enter the special rent\"))\n",
        "ta=int(input(\"enter the travel allowance\"))\n",
        "x=250000\n",
        "y=500000\n",
        "z=750000\n",
        "if sal<=250000:\n",
        "  print('no tax')\n",
        "if sal>250000 and sal<500000:\n",
        "  tax=(sal-x)*5/100\n",
        "  print(\"tax amount:\",tax)\n",
        "if sal>500000 and sal<750000:\n",
        "  tax=(x*5/100)+(sal-y)*10/1000\n",
        "  print(\"tax amount:\",tax)\n",
        "if sal>750000 and sal<1000000:\n",
        "  tax=(x*5/100)+((y*10/100)+((sal-z)*20/100)\n",
        "  print(\"tax amount:\",tax)\n",
        "\n",
        "\n",
        "\n",
        "  "
      ]
    }
  ]
}