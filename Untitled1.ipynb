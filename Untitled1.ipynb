{
  "nbformat": 4,
  "nbformat_minor": 0,
  "metadata": {
    "colab": {
      "provenance": [],
      "authorship_tag": "ABX9TyNtG5jiX3woUYoWbkQtzrqr",
      "include_colab_link": true
    },
    "kernelspec": {
      "name": "python3",
      "display_name": "Python 3"
    },
    "language_info": {
      "name": "python"
    }
  },
  "cells": [
    {
      "cell_type": "markdown",
      "metadata": {
        "id": "view-in-github",
        "colab_type": "text"
      },
      "source": [
        "<a href=\"https://colab.research.google.com/github/Simpaulks/BA-with-python/blob/main/Untitled1.ipynb\" target=\"_parent\"><img src=\"https://colab.research.google.com/assets/colab-badge.svg\" alt=\"Open In Colab\"/></a>"
      ]
    },
    {
      "cell_type": "code",
      "execution_count": 1,
      "metadata": {
        "id": "oEBrYB5fOqGV"
      },
      "outputs": [],
      "source": [
        "def simpaul():\n",
        "  print('india is my country')"
      ]
    },
    {
      "cell_type": "code",
      "source": [
        "simpaul()"
      ],
      "metadata": {
        "colab": {
          "base_uri": "https://localhost:8080/"
        },
        "id": "qATDAsUYPqpQ",
        "outputId": "45f2f1b5-2eaf-4a44-8a64-0b472211c566"
      },
      "execution_count": 2,
      "outputs": [
        {
          "output_type": "stream",
          "name": "stdout",
          "text": [
            "india is my country\n"
          ]
        }
      ]
    },
    {
      "cell_type": "code",
      "source": [
        "def paru():\n",
        "  print(\"your roll no is \",10)"
      ],
      "metadata": {
        "id": "j46RAmVyPsWt"
      },
      "execution_count": 3,
      "outputs": []
    },
    {
      "cell_type": "code",
      "source": [
        "paru()"
      ],
      "metadata": {
        "colab": {
          "base_uri": "https://localhost:8080/"
        },
        "id": "4MNttNLSQqZX",
        "outputId": "d80a1e5c-3180-4727-d967-94e92d8aabb2"
      },
      "execution_count": 4,
      "outputs": [
        {
          "output_type": "stream",
          "name": "stdout",
          "text": [
            "your roll no is  10\n"
          ]
        }
      ]
    },
    {
      "cell_type": "code",
      "source": [
        "def christi(x):\n",
        "  print(\"your roll number is\",x)\n"
      ],
      "metadata": {
        "id": "Ze0omOUjRJY0"
      },
      "execution_count": 7,
      "outputs": []
    },
    {
      "cell_type": "code",
      "source": [
        "x=int(input('enter your roll no'))\n",
        "christi(x)"
      ],
      "metadata": {
        "colab": {
          "base_uri": "https://localhost:8080/"
        },
        "id": "ssm6oSVORVMF",
        "outputId": "043655ca-b800-435c-ee73-3743185eea53"
      },
      "execution_count": 8,
      "outputs": [
        {
          "output_type": "stream",
          "name": "stdout",
          "text": [
            "enter your roll no56\n",
            "your roll number is 56\n"
          ]
        }
      ]
    },
    {
      "cell_type": "code",
      "source": [
        "def christi(c,x,y,z):\n",
        "  print('name:',c)\n",
        "  print(\"your roll number is\",x)\n",
        "  print(\"place:\",y)\n",
        "  print(\"email:\",z)"
      ],
      "metadata": {
        "id": "761kKwCFRd_Q"
      },
      "execution_count": 12,
      "outputs": []
    },
    {
      "cell_type": "code",
      "source": [
        "c=input(\"enter the name:\")\n",
        "x=int(input('enter the roll no:'))\n",
        "y=input('enter the place:')\n",
        "z=input('enter the email id:')\n",
        "christi(c,x,y,z)\n"
      ],
      "metadata": {
        "colab": {
          "base_uri": "https://localhost:8080/"
        },
        "id": "dkDURxMYSWp2",
        "outputId": "d2fd2fd5-0e9e-47d0-a3ae-d17a559226bb"
      },
      "execution_count": 15,
      "outputs": [
        {
          "output_type": "stream",
          "name": "stdout",
          "text": [
            "enter the name:simpaul\n",
            "enter the roll no:69\n",
            "enter the place:ekm\n",
            "enter the email id:simpaulks@gmail.com\n",
            "name: simpaul\n",
            "your roll number is 69\n",
            "place: ekm\n",
            "email: simpaulks@gmail.com\n"
          ]
        }
      ]
    },
    {
      "cell_type": "code",
      "source": [
        "def first(y):\n",
        "  print(\"first name\",y[0])\n",
        "\n",
        "\n"
      ],
      "metadata": {
        "id": "pr_-xoFATA24"
      },
      "execution_count": 19,
      "outputs": []
    },
    {
      "cell_type": "code",
      "source": [
        "def second(y):\n",
        "  print(\"second name\",y[1])"
      ],
      "metadata": {
        "id": "7UyJaxKzW6c_"
      },
      "execution_count": 20,
      "outputs": []
    },
    {
      "cell_type": "code",
      "source": [
        "x=input(\"enter the full name:\")\n",
        "y=x.split(\" \")\n",
        "first(y)\n",
        "second(y)\n"
      ],
      "metadata": {
        "colab": {
          "base_uri": "https://localhost:8080/"
        },
        "id": "vfV6veaiXCVA",
        "outputId": "bbdf1b9e-5dd4-4337-f5af-d4320ec490ee"
      },
      "execution_count": 23,
      "outputs": [
        {
          "output_type": "stream",
          "name": "stdout",
          "text": [
            "enter the full name:simpaul simon\n",
            "first name simpaul\n",
            "second name simon\n"
          ]
        }
      ]
    },
    {
      "cell_type": "code",
      "source": [
        "a=int(input('enter a number:'))\n",
        "b=int(input('enter a number:'))\n",
        "print(\"before swaping a:\",a,\"b:\",b)\n",
        "a,b=b,a\n",
        "print(\"after swaping a:\",a,\"b:\",b)"
      ],
      "metadata": {
        "colab": {
          "base_uri": "https://localhost:8080/"
        },
        "id": "_2FzE169XOGl",
        "outputId": "2087a5e2-54c3-4a77-8743-597ebe1f5fae"
      },
      "execution_count": 33,
      "outputs": [
        {
          "output_type": "stream",
          "name": "stdout",
          "text": [
            "enter a number:6\n",
            "enter a number:9\n",
            "before swaping a: 6 b: 9\n",
            "after swaping a: 9 b: 6\n"
          ]
        }
      ]
    },
    {
      "cell_type": "code",
      "source": [
        "a=input('enter a number:')\n",
        "b=input('enter a number:')\n",
        "print(\"before swaping\",a+b)\n",
        "a,b=b,a\n",
        "print(\"after swaping\",a+b)"
      ],
      "metadata": {
        "colab": {
          "base_uri": "https://localhost:8080/"
        },
        "id": "NphhBgV9c3jL",
        "outputId": "a5e07da6-590a-4bdf-e2e0-4ed43223f8d8"
      },
      "execution_count": 38,
      "outputs": [
        {
          "output_type": "stream",
          "name": "stdout",
          "text": [
            "enter a number:6\n",
            "enter a number:9\n",
            "before swaping 69\n",
            "after swaping 96\n"
          ]
        }
      ]
    },
    {
      "cell_type": "code",
      "source": [
        "number=int(input('enter a number:'))\n",
        "reversed_number = 0\n",
        "\n",
        "while number != 0:\n",
        "    digit = number % 10\n",
        "    reversed_number = reversed_number * 10 + digit\n",
        "    number //= 10\n",
        "    \n",
        "print(reversed_number)"
      ],
      "metadata": {
        "colab": {
          "base_uri": "https://localhost:8080/"
        },
        "id": "bdxH1bC6fHhV",
        "outputId": "738916aa-a8e1-445b-baaa-9f5d91741e72"
      },
      "execution_count": 44,
      "outputs": [
        {
          "output_type": "stream",
          "name": "stdout",
          "text": [
            "enter a number:69\n",
            "96\n"
          ]
        }
      ]
    },
    {
      "cell_type": "code",
      "source": [],
      "metadata": {
        "id": "h82ruwbbgvR_"
      },
      "execution_count": 53,
      "outputs": []
    },
    {
      "cell_type": "code",
      "source": [],
      "metadata": {
        "id": "UEizM-oGhAqo"
      },
      "execution_count": 57,
      "outputs": []
    },
    {
      "cell_type": "code",
      "source": [],
      "metadata": {
        "id": "uD55iMWgiqMI"
      },
      "execution_count": null,
      "outputs": []
    }
  ]
}